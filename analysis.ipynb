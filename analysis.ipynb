{
 "metadata": {
  "language_info": {
   "codemirror_mode": {
    "name": "ipython",
    "version": 3
   },
   "file_extension": ".py",
   "mimetype": "text/x-python",
   "name": "python",
   "nbconvert_exporter": "python",
   "pygments_lexer": "ipython3",
   "version": "3.8.5"
  },
  "orig_nbformat": 4,
  "kernelspec": {
   "name": "python3",
   "display_name": "Python 3.8.5 64-bit ('base': conda)"
  },
  "interpreter": {
   "hash": "af5b9358f624b7a10e69b5311cbd31159d36e52e31ed36b18bb11cfc0c99bfa2"
  }
 },
 "nbformat": 4,
 "nbformat_minor": 2,
 "cells": [
  {
   "cell_type": "code",
   "execution_count": 1,
   "metadata": {},
   "outputs": [],
   "source": [
    "import pandas as pd\n",
    "import numpy as np\n",
    "import matplotlib.pyplot as plt\n",
    "import datetime"
   ]
  },
  {
   "cell_type": "code",
   "execution_count": 2,
   "metadata": {},
   "outputs": [],
   "source": [
    "data = pd.read_excel(\"data/cleaned_data.xlsx\")"
   ]
  },
  {
   "cell_type": "code",
   "execution_count": 3,
   "metadata": {},
   "outputs": [],
   "source": [
    "# plot distribution of show types\n",
    "fig, (ax1, ax2) = plt.subplots(1, 2, figsize=(30, 10))\n",
    "\n",
    "episode_type = data[\"title\"].value_counts()\n",
    "b1 = ax1.bar(x=episode_type.index, height=episode_type, color=[\"tab:blue\", \"green\", \"red\"])\n",
    "ax1.set_xlabel(\"Sendung\", fontsize=30, labelpad=20)\n",
    "ax1.set_ylabel(\"Anzahl Episoden\", fontsize=20, labelpad=20)\n",
    "ax1.bar_label(b1, episode_type)\n",
    "\n",
    "# plot distribution of timeslot\n",
    "episode_timeslots = data.groupby(\"timeslot\").size()\n",
    "# move timeslots after midnight from start to end\n",
    "episode_timeslots = episode_timeslots[2:].append(episode_timeslots[:2])\n",
    "# labels\n",
    "x_labels_ = [datetime.time(hour=mt // 100, minute=mt % 100).strftime(\"%H:%M\") for mt in episode_timeslots.index]\n",
    "b2 = ax2.bar(x=x_labels_, height=episode_timeslots)\n",
    "ax2.set_xlabel(\"Timeslot\", fontsize=30, labelpad=20)\n",
    "ax2.set_ylabel(\"Anzahl Episoden\", fontsize=20, labelpad=20)\n",
    "ax2.bar_label(b2, episode_timeslots)\n",
    "plt.savefig(\"graphs/other/episode_distribution.png\")\n",
    "plt.close()"
   ]
  },
  {
   "cell_type": "code",
   "execution_count": 5,
   "metadata": {},
   "outputs": [
    {
     "output_type": "execute_result",
     "data": {
      "text/plain": [
       "            date       date_and_time  day  desc_length  episodes_that_day  \\\n",
       "4575  2014-01-01 2014-01-01 23:13:00    1          163                  2   \n",
       "4576  2014-01-01 2014-01-01 23:13:00    1          163                  2   \n",
       "4577  2014-01-01 2014-01-01 23:13:00    1          163                  2   \n",
       "4578  2014-01-01 2014-01-01 23:13:00    1          163                  2   \n",
       "4579  2014-01-01 2014-01-01 23:13:00    1          163                  2   \n",
       "...          ...                 ...  ...          ...                ...   \n",
       "50931 2021-01-31 2021-01-31 20:00:00   31          678                  2   \n",
       "50932 2021-01-31 2021-01-31 20:00:00   31          678                  2   \n",
       "50933 2021-01-31 2021-01-31 20:00:00   31          678                  2   \n",
       "50934 2021-01-31 2021-01-31 20:00:00   31          678                  2   \n",
       "50935 2021-01-31 2021-01-31 20:00:00   31          678                  2   \n",
       "\n",
       "       month  num_topics quarter  timeslot        title  weekday  year  \\\n",
       "4575       1           5  1/2014      2300  tagesthemen        2  2014   \n",
       "4576       1           5  1/2014      2300  tagesthemen        2  2014   \n",
       "4577       1           5  1/2014      2300  tagesthemen        2  2014   \n",
       "4578       1           5  1/2014      2300  tagesthemen        2  2014   \n",
       "4579       1           5  1/2014      2300  tagesthemen        2  2014   \n",
       "...      ...         ...     ...       ...          ...      ...   ...   \n",
       "50931      1          11  1/2021      2000   tagesschau        6  2021   \n",
       "50932      1          11  1/2021      2000   tagesschau        6  2021   \n",
       "50933      1          11  1/2021      2000   tagesschau        6  2021   \n",
       "50934      1          11  1/2021      2000   tagesschau        6  2021   \n",
       "50935      1          11  1/2021      2000   tagesschau        6  2021   \n",
       "\n",
       "                                                   topic  weather  short_news  \\\n",
       "4575                       Die Bilanz der Silvesternacht    False       False   \n",
       "4576           EU-Freizügigkeit für Bulgaren und Rumänen    False       False   \n",
       "4577                         Weitere Meldungen des Tages    False        True   \n",
       "4578    Bill de Blasio ist New Yorks neuer Bürgermeister    False       False   \n",
       "4579                                          Das Wetter     True       False   \n",
       "...                                                  ...      ...         ...   \n",
       "50931   Sprengung von vier Weltkriegsbomben in Göttingen    False       False   \n",
       "50932                19. Spieltag der Fußball-Bundesliga    False       False   \n",
       "50933          Dänemark verteidigt Titel bei Handball-WM    False       False   \n",
       "50934                                         Das Wetter     True       False   \n",
       "50935   (Der Beitrag zum Thema \"Fußball-Bundesliga\" d...    False       False   \n",
       "\n",
       "       lottozahlen  meinung  cluster  \n",
       "4575         False    False        5  \n",
       "4576         False    False        5  \n",
       "4577         False    False        4  \n",
       "4578         False    False        0  \n",
       "4579         False    False        4  \n",
       "...            ...      ...      ...  \n",
       "50931        False    False        2  \n",
       "50932        False    False        1  \n",
       "50933        False    False        7  \n",
       "50934        False    False        4  \n",
       "50935        False    False        0  \n",
       "\n",
       "[4535 rows x 18 columns]"
      ],
      "text/html": "<div>\n<style scoped>\n    .dataframe tbody tr th:only-of-type {\n        vertical-align: middle;\n    }\n\n    .dataframe tbody tr th {\n        vertical-align: top;\n    }\n\n    .dataframe thead th {\n        text-align: right;\n    }\n</style>\n<table border=\"1\" class=\"dataframe\">\n  <thead>\n    <tr style=\"text-align: right;\">\n      <th></th>\n      <th>date</th>\n      <th>date_and_time</th>\n      <th>day</th>\n      <th>desc_length</th>\n      <th>episodes_that_day</th>\n      <th>month</th>\n      <th>num_topics</th>\n      <th>quarter</th>\n      <th>timeslot</th>\n      <th>title</th>\n      <th>weekday</th>\n      <th>year</th>\n      <th>topic</th>\n      <th>weather</th>\n      <th>short_news</th>\n      <th>lottozahlen</th>\n      <th>meinung</th>\n      <th>cluster</th>\n    </tr>\n  </thead>\n  <tbody>\n    <tr>\n      <th>4575</th>\n      <td>2014-01-01</td>\n      <td>2014-01-01 23:13:00</td>\n      <td>1</td>\n      <td>163</td>\n      <td>2</td>\n      <td>1</td>\n      <td>5</td>\n      <td>1/2014</td>\n      <td>2300</td>\n      <td>tagesthemen</td>\n      <td>2</td>\n      <td>2014</td>\n      <td>Die Bilanz der Silvesternacht</td>\n      <td>False</td>\n      <td>False</td>\n      <td>False</td>\n      <td>False</td>\n      <td>5</td>\n    </tr>\n    <tr>\n      <th>4576</th>\n      <td>2014-01-01</td>\n      <td>2014-01-01 23:13:00</td>\n      <td>1</td>\n      <td>163</td>\n      <td>2</td>\n      <td>1</td>\n      <td>5</td>\n      <td>1/2014</td>\n      <td>2300</td>\n      <td>tagesthemen</td>\n      <td>2</td>\n      <td>2014</td>\n      <td>EU-Freizügigkeit für Bulgaren und Rumänen</td>\n      <td>False</td>\n      <td>False</td>\n      <td>False</td>\n      <td>False</td>\n      <td>5</td>\n    </tr>\n    <tr>\n      <th>4577</th>\n      <td>2014-01-01</td>\n      <td>2014-01-01 23:13:00</td>\n      <td>1</td>\n      <td>163</td>\n      <td>2</td>\n      <td>1</td>\n      <td>5</td>\n      <td>1/2014</td>\n      <td>2300</td>\n      <td>tagesthemen</td>\n      <td>2</td>\n      <td>2014</td>\n      <td>Weitere Meldungen des Tages</td>\n      <td>False</td>\n      <td>True</td>\n      <td>False</td>\n      <td>False</td>\n      <td>4</td>\n    </tr>\n    <tr>\n      <th>4578</th>\n      <td>2014-01-01</td>\n      <td>2014-01-01 23:13:00</td>\n      <td>1</td>\n      <td>163</td>\n      <td>2</td>\n      <td>1</td>\n      <td>5</td>\n      <td>1/2014</td>\n      <td>2300</td>\n      <td>tagesthemen</td>\n      <td>2</td>\n      <td>2014</td>\n      <td>Bill de Blasio ist New Yorks neuer Bürgermeister</td>\n      <td>False</td>\n      <td>False</td>\n      <td>False</td>\n      <td>False</td>\n      <td>0</td>\n    </tr>\n    <tr>\n      <th>4579</th>\n      <td>2014-01-01</td>\n      <td>2014-01-01 23:13:00</td>\n      <td>1</td>\n      <td>163</td>\n      <td>2</td>\n      <td>1</td>\n      <td>5</td>\n      <td>1/2014</td>\n      <td>2300</td>\n      <td>tagesthemen</td>\n      <td>2</td>\n      <td>2014</td>\n      <td>Das Wetter</td>\n      <td>True</td>\n      <td>False</td>\n      <td>False</td>\n      <td>False</td>\n      <td>4</td>\n    </tr>\n    <tr>\n      <th>...</th>\n      <td>...</td>\n      <td>...</td>\n      <td>...</td>\n      <td>...</td>\n      <td>...</td>\n      <td>...</td>\n      <td>...</td>\n      <td>...</td>\n      <td>...</td>\n      <td>...</td>\n      <td>...</td>\n      <td>...</td>\n      <td>...</td>\n      <td>...</td>\n      <td>...</td>\n      <td>...</td>\n      <td>...</td>\n      <td>...</td>\n    </tr>\n    <tr>\n      <th>50931</th>\n      <td>2021-01-31</td>\n      <td>2021-01-31 20:00:00</td>\n      <td>31</td>\n      <td>678</td>\n      <td>2</td>\n      <td>1</td>\n      <td>11</td>\n      <td>1/2021</td>\n      <td>2000</td>\n      <td>tagesschau</td>\n      <td>6</td>\n      <td>2021</td>\n      <td>Sprengung von vier Weltkriegsbomben in Göttingen</td>\n      <td>False</td>\n      <td>False</td>\n      <td>False</td>\n      <td>False</td>\n      <td>2</td>\n    </tr>\n    <tr>\n      <th>50932</th>\n      <td>2021-01-31</td>\n      <td>2021-01-31 20:00:00</td>\n      <td>31</td>\n      <td>678</td>\n      <td>2</td>\n      <td>1</td>\n      <td>11</td>\n      <td>1/2021</td>\n      <td>2000</td>\n      <td>tagesschau</td>\n      <td>6</td>\n      <td>2021</td>\n      <td>19. Spieltag der Fußball-Bundesliga</td>\n      <td>False</td>\n      <td>False</td>\n      <td>False</td>\n      <td>False</td>\n      <td>1</td>\n    </tr>\n    <tr>\n      <th>50933</th>\n      <td>2021-01-31</td>\n      <td>2021-01-31 20:00:00</td>\n      <td>31</td>\n      <td>678</td>\n      <td>2</td>\n      <td>1</td>\n      <td>11</td>\n      <td>1/2021</td>\n      <td>2000</td>\n      <td>tagesschau</td>\n      <td>6</td>\n      <td>2021</td>\n      <td>Dänemark verteidigt Titel bei Handball-WM</td>\n      <td>False</td>\n      <td>False</td>\n      <td>False</td>\n      <td>False</td>\n      <td>7</td>\n    </tr>\n    <tr>\n      <th>50934</th>\n      <td>2021-01-31</td>\n      <td>2021-01-31 20:00:00</td>\n      <td>31</td>\n      <td>678</td>\n      <td>2</td>\n      <td>1</td>\n      <td>11</td>\n      <td>1/2021</td>\n      <td>2000</td>\n      <td>tagesschau</td>\n      <td>6</td>\n      <td>2021</td>\n      <td>Das Wetter</td>\n      <td>True</td>\n      <td>False</td>\n      <td>False</td>\n      <td>False</td>\n      <td>4</td>\n    </tr>\n    <tr>\n      <th>50935</th>\n      <td>2021-01-31</td>\n      <td>2021-01-31 20:00:00</td>\n      <td>31</td>\n      <td>678</td>\n      <td>2</td>\n      <td>1</td>\n      <td>11</td>\n      <td>1/2021</td>\n      <td>2000</td>\n      <td>tagesschau</td>\n      <td>6</td>\n      <td>2021</td>\n      <td>(Der Beitrag zum Thema \"Fußball-Bundesliga\" d...</td>\n      <td>False</td>\n      <td>False</td>\n      <td>False</td>\n      <td>False</td>\n      <td>0</td>\n    </tr>\n  </tbody>\n</table>\n<p>4535 rows × 18 columns</p>\n</div>"
     },
     "metadata": {},
     "execution_count": 5
    }
   ],
   "source": []
  },
  {
   "cell_type": "code",
   "execution_count": null,
   "metadata": {},
   "outputs": [],
   "source": []
  }
 ]
}