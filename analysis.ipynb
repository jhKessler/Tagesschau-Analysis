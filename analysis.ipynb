{
 "cells": [
  {
   "cell_type": "code",
   "execution_count": 1,
   "source": [
    "import pandas as pd\r\n",
    "import plotly.express as px\r\n",
    "import matplotlib.pyplot as plt\r\n",
    "import numpy as np"
   ],
   "outputs": [],
   "metadata": {}
  },
  {
   "cell_type": "code",
   "execution_count": 13,
   "source": [
    "topics = pd.read_excel(\"data/cleaned.xlsx\")\r\n",
    "shows = pd.read_excel(\"data/sendungen.xlsx\")"
   ],
   "outputs": [],
   "metadata": {}
  },
  {
   "cell_type": "code",
   "execution_count": 14,
   "source": [
    "# look at desc length over time\r\n",
    "by_quarter = shows.groupby(\"quarter\")\r\n",
    "\r\n",
    "desc_len_development_median = by_quarter[\"desc_length\"].median().to_frame()\r\n",
    "desc_len_development_median[\"mode\"] = \"Median\"\r\n",
    "\r\n",
    "desc_len_development_mean = by_quarter[\"desc_length\"].mean().to_frame()\r\n",
    "desc_len_development_mean[\"mode\"] = \"Mean\"\r\n",
    "\r\n",
    "desc_len_df = desc_len_development_median.append(desc_len_development_mean)\r\n",
    "\r\n",
    "desc_len_df.reset_index(inplace=True)"
   ],
   "outputs": [],
   "metadata": {}
  },
  {
   "cell_type": "code",
   "execution_count": 15,
   "source": [
    "# plot description length over time\r\n",
    "\r\n",
    "fig = px.line(\r\n",
    "    desc_len_df,\r\n",
    "    x = \"quarter\", \r\n",
    "    y = \"desc_length\", \r\n",
    "    color = 'mode', \r\n",
    "    template = \"plotly_dark\",\r\n",
    "    labels = {\"desc_length\": \"Description Length\", \"quarter\": \"Quarter\"},\r\n",
    "    range_y = [200, 600]\r\n",
    "    )\r\n",
    "\r\n",
    "fig.write_html(\"plots/description_length.html\")\r\n",
    "fig.show()"
   ],
   "outputs": [
    {
     "output_type": "display_data",
     "data": {
      "application/vnd.plotly.v1+json": {
       "config": {
        "plotlyServerURL": "https://plot.ly"
       },
       "data": [
        {
         "hovertemplate": "mode=Median<br>Quarter=%{x}<br>Description Length=%{y}<extra></extra>",
         "legendgroup": "Median",
         "line": {
          "color": "#636efa",
          "dash": "solid"
         },
         "marker": {
          "symbol": "circle"
         },
         "mode": "lines",
         "name": "Median",
         "orientation": "v",
         "showlegend": true,
         "type": "scatter",
         "x": [
          "2013/2",
          "2013/3",
          "2013/4",
          "2014/1",
          "2014/2",
          "2014/3",
          "2014/4",
          "2015/1",
          "2015/2",
          "2015/3",
          "2015/4",
          "2016/1",
          "2016/2",
          "2016/3",
          "2016/4",
          "2017/1",
          "2017/2",
          "2017/3",
          "2017/4",
          "2018/1",
          "2018/2",
          "2018/3",
          "2018/4",
          "2019/1",
          "2019/2",
          "2019/3",
          "2019/4",
          "2020/1",
          "2020/2",
          "2020/3",
          "2020/4",
          "2021/1",
          "2021/2",
          "2021/3"
         ],
         "xaxis": "x",
         "y": [
          257,
          271,
          280,
          283.5,
          303,
          315,
          332,
          312,
          336.5,
          342,
          333,
          347,
          342,
          351,
          359,
          367,
          343,
          365,
          363.5,
          394,
          359.5,
          409.5,
          395,
          407,
          406,
          426,
          420.5,
          412,
          446,
          475.5,
          479.5,
          457,
          473.5,
          470.5
         ],
         "yaxis": "y"
        },
        {
         "hovertemplate": "mode=Mean<br>Quarter=%{x}<br>Description Length=%{y}<extra></extra>",
         "legendgroup": "Mean",
         "line": {
          "color": "#EF553B",
          "dash": "solid"
         },
         "marker": {
          "symbol": "circle"
         },
         "mode": "lines",
         "name": "Mean",
         "orientation": "v",
         "showlegend": true,
         "type": "scatter",
         "x": [
          "2013/2",
          "2013/3",
          "2013/4",
          "2014/1",
          "2014/2",
          "2014/3",
          "2014/4",
          "2015/1",
          "2015/2",
          "2015/3",
          "2015/4",
          "2016/1",
          "2016/2",
          "2016/3",
          "2016/4",
          "2017/1",
          "2017/2",
          "2017/3",
          "2017/4",
          "2018/1",
          "2018/2",
          "2018/3",
          "2018/4",
          "2019/1",
          "2019/2",
          "2019/3",
          "2019/4",
          "2020/1",
          "2020/2",
          "2020/3",
          "2020/4",
          "2021/1",
          "2021/2",
          "2021/3"
         ],
         "xaxis": "x",
         "y": [
          263.3956834532374,
          260.4032258064516,
          272.76666666666665,
          281.97802197802196,
          304.11049723756906,
          319.0483870967742,
          335.10555555555555,
          319.9016393442623,
          335.4619565217391,
          350.331550802139,
          347.56906077348066,
          361.1311475409836,
          356.08743169398906,
          355.9732620320856,
          361.5659340659341,
          363.646408839779,
          347.1711229946524,
          376.98387096774195,
          388.6263736263736,
          390.1222222222222,
          395.04945054945057,
          413.5967741935484,
          418.5879120879121,
          418.4010989010989,
          419.35135135135135,
          454.78494623655916,
          440.11538461538464,
          430.38709677419354,
          457.34806629834253,
          498.7445652173913,
          467.18131868131866,
          485.38121546961327,
          497.7637362637363,
          484.72
         ],
         "yaxis": "y"
        }
       ],
       "layout": {
        "legend": {
         "title": {
          "text": "mode"
         },
         "tracegroupgap": 0
        },
        "margin": {
         "t": 60
        },
        "template": {
         "data": {
          "bar": [
           {
            "error_x": {
             "color": "#f2f5fa"
            },
            "error_y": {
             "color": "#f2f5fa"
            },
            "marker": {
             "line": {
              "color": "rgb(17,17,17)",
              "width": 0.5
             },
             "pattern": {
              "fillmode": "overlay",
              "size": 10,
              "solidity": 0.2
             }
            },
            "type": "bar"
           }
          ],
          "barpolar": [
           {
            "marker": {
             "line": {
              "color": "rgb(17,17,17)",
              "width": 0.5
             },
             "pattern": {
              "fillmode": "overlay",
              "size": 10,
              "solidity": 0.2
             }
            },
            "type": "barpolar"
           }
          ],
          "carpet": [
           {
            "aaxis": {
             "endlinecolor": "#A2B1C6",
             "gridcolor": "#506784",
             "linecolor": "#506784",
             "minorgridcolor": "#506784",
             "startlinecolor": "#A2B1C6"
            },
            "baxis": {
             "endlinecolor": "#A2B1C6",
             "gridcolor": "#506784",
             "linecolor": "#506784",
             "minorgridcolor": "#506784",
             "startlinecolor": "#A2B1C6"
            },
            "type": "carpet"
           }
          ],
          "choropleth": [
           {
            "colorbar": {
             "outlinewidth": 0,
             "ticks": ""
            },
            "type": "choropleth"
           }
          ],
          "contour": [
           {
            "colorbar": {
             "outlinewidth": 0,
             "ticks": ""
            },
            "colorscale": [
             [
              0,
              "#0d0887"
             ],
             [
              0.1111111111111111,
              "#46039f"
             ],
             [
              0.2222222222222222,
              "#7201a8"
             ],
             [
              0.3333333333333333,
              "#9c179e"
             ],
             [
              0.4444444444444444,
              "#bd3786"
             ],
             [
              0.5555555555555556,
              "#d8576b"
             ],
             [
              0.6666666666666666,
              "#ed7953"
             ],
             [
              0.7777777777777778,
              "#fb9f3a"
             ],
             [
              0.8888888888888888,
              "#fdca26"
             ],
             [
              1,
              "#f0f921"
             ]
            ],
            "type": "contour"
           }
          ],
          "contourcarpet": [
           {
            "colorbar": {
             "outlinewidth": 0,
             "ticks": ""
            },
            "type": "contourcarpet"
           }
          ],
          "heatmap": [
           {
            "colorbar": {
             "outlinewidth": 0,
             "ticks": ""
            },
            "colorscale": [
             [
              0,
              "#0d0887"
             ],
             [
              0.1111111111111111,
              "#46039f"
             ],
             [
              0.2222222222222222,
              "#7201a8"
             ],
             [
              0.3333333333333333,
              "#9c179e"
             ],
             [
              0.4444444444444444,
              "#bd3786"
             ],
             [
              0.5555555555555556,
              "#d8576b"
             ],
             [
              0.6666666666666666,
              "#ed7953"
             ],
             [
              0.7777777777777778,
              "#fb9f3a"
             ],
             [
              0.8888888888888888,
              "#fdca26"
             ],
             [
              1,
              "#f0f921"
             ]
            ],
            "type": "heatmap"
           }
          ],
          "heatmapgl": [
           {
            "colorbar": {
             "outlinewidth": 0,
             "ticks": ""
            },
            "colorscale": [
             [
              0,
              "#0d0887"
             ],
             [
              0.1111111111111111,
              "#46039f"
             ],
             [
              0.2222222222222222,
              "#7201a8"
             ],
             [
              0.3333333333333333,
              "#9c179e"
             ],
             [
              0.4444444444444444,
              "#bd3786"
             ],
             [
              0.5555555555555556,
              "#d8576b"
             ],
             [
              0.6666666666666666,
              "#ed7953"
             ],
             [
              0.7777777777777778,
              "#fb9f3a"
             ],
             [
              0.8888888888888888,
              "#fdca26"
             ],
             [
              1,
              "#f0f921"
             ]
            ],
            "type": "heatmapgl"
           }
          ],
          "histogram": [
           {
            "marker": {
             "pattern": {
              "fillmode": "overlay",
              "size": 10,
              "solidity": 0.2
             }
            },
            "type": "histogram"
           }
          ],
          "histogram2d": [
           {
            "colorbar": {
             "outlinewidth": 0,
             "ticks": ""
            },
            "colorscale": [
             [
              0,
              "#0d0887"
             ],
             [
              0.1111111111111111,
              "#46039f"
             ],
             [
              0.2222222222222222,
              "#7201a8"
             ],
             [
              0.3333333333333333,
              "#9c179e"
             ],
             [
              0.4444444444444444,
              "#bd3786"
             ],
             [
              0.5555555555555556,
              "#d8576b"
             ],
             [
              0.6666666666666666,
              "#ed7953"
             ],
             [
              0.7777777777777778,
              "#fb9f3a"
             ],
             [
              0.8888888888888888,
              "#fdca26"
             ],
             [
              1,
              "#f0f921"
             ]
            ],
            "type": "histogram2d"
           }
          ],
          "histogram2dcontour": [
           {
            "colorbar": {
             "outlinewidth": 0,
             "ticks": ""
            },
            "colorscale": [
             [
              0,
              "#0d0887"
             ],
             [
              0.1111111111111111,
              "#46039f"
             ],
             [
              0.2222222222222222,
              "#7201a8"
             ],
             [
              0.3333333333333333,
              "#9c179e"
             ],
             [
              0.4444444444444444,
              "#bd3786"
             ],
             [
              0.5555555555555556,
              "#d8576b"
             ],
             [
              0.6666666666666666,
              "#ed7953"
             ],
             [
              0.7777777777777778,
              "#fb9f3a"
             ],
             [
              0.8888888888888888,
              "#fdca26"
             ],
             [
              1,
              "#f0f921"
             ]
            ],
            "type": "histogram2dcontour"
           }
          ],
          "mesh3d": [
           {
            "colorbar": {
             "outlinewidth": 0,
             "ticks": ""
            },
            "type": "mesh3d"
           }
          ],
          "parcoords": [
           {
            "line": {
             "colorbar": {
              "outlinewidth": 0,
              "ticks": ""
             }
            },
            "type": "parcoords"
           }
          ],
          "pie": [
           {
            "automargin": true,
            "type": "pie"
           }
          ],
          "scatter": [
           {
            "marker": {
             "line": {
              "color": "#283442"
             }
            },
            "type": "scatter"
           }
          ],
          "scatter3d": [
           {
            "line": {
             "colorbar": {
              "outlinewidth": 0,
              "ticks": ""
             }
            },
            "marker": {
             "colorbar": {
              "outlinewidth": 0,
              "ticks": ""
             }
            },
            "type": "scatter3d"
           }
          ],
          "scattercarpet": [
           {
            "marker": {
             "colorbar": {
              "outlinewidth": 0,
              "ticks": ""
             }
            },
            "type": "scattercarpet"
           }
          ],
          "scattergeo": [
           {
            "marker": {
             "colorbar": {
              "outlinewidth": 0,
              "ticks": ""
             }
            },
            "type": "scattergeo"
           }
          ],
          "scattergl": [
           {
            "marker": {
             "line": {
              "color": "#283442"
             }
            },
            "type": "scattergl"
           }
          ],
          "scattermapbox": [
           {
            "marker": {
             "colorbar": {
              "outlinewidth": 0,
              "ticks": ""
             }
            },
            "type": "scattermapbox"
           }
          ],
          "scatterpolar": [
           {
            "marker": {
             "colorbar": {
              "outlinewidth": 0,
              "ticks": ""
             }
            },
            "type": "scatterpolar"
           }
          ],
          "scatterpolargl": [
           {
            "marker": {
             "colorbar": {
              "outlinewidth": 0,
              "ticks": ""
             }
            },
            "type": "scatterpolargl"
           }
          ],
          "scatterternary": [
           {
            "marker": {
             "colorbar": {
              "outlinewidth": 0,
              "ticks": ""
             }
            },
            "type": "scatterternary"
           }
          ],
          "surface": [
           {
            "colorbar": {
             "outlinewidth": 0,
             "ticks": ""
            },
            "colorscale": [
             [
              0,
              "#0d0887"
             ],
             [
              0.1111111111111111,
              "#46039f"
             ],
             [
              0.2222222222222222,
              "#7201a8"
             ],
             [
              0.3333333333333333,
              "#9c179e"
             ],
             [
              0.4444444444444444,
              "#bd3786"
             ],
             [
              0.5555555555555556,
              "#d8576b"
             ],
             [
              0.6666666666666666,
              "#ed7953"
             ],
             [
              0.7777777777777778,
              "#fb9f3a"
             ],
             [
              0.8888888888888888,
              "#fdca26"
             ],
             [
              1,
              "#f0f921"
             ]
            ],
            "type": "surface"
           }
          ],
          "table": [
           {
            "cells": {
             "fill": {
              "color": "#506784"
             },
             "line": {
              "color": "rgb(17,17,17)"
             }
            },
            "header": {
             "fill": {
              "color": "#2a3f5f"
             },
             "line": {
              "color": "rgb(17,17,17)"
             }
            },
            "type": "table"
           }
          ]
         },
         "layout": {
          "annotationdefaults": {
           "arrowcolor": "#f2f5fa",
           "arrowhead": 0,
           "arrowwidth": 1
          },
          "autotypenumbers": "strict",
          "coloraxis": {
           "colorbar": {
            "outlinewidth": 0,
            "ticks": ""
           }
          },
          "colorscale": {
           "diverging": [
            [
             0,
             "#8e0152"
            ],
            [
             0.1,
             "#c51b7d"
            ],
            [
             0.2,
             "#de77ae"
            ],
            [
             0.3,
             "#f1b6da"
            ],
            [
             0.4,
             "#fde0ef"
            ],
            [
             0.5,
             "#f7f7f7"
            ],
            [
             0.6,
             "#e6f5d0"
            ],
            [
             0.7,
             "#b8e186"
            ],
            [
             0.8,
             "#7fbc41"
            ],
            [
             0.9,
             "#4d9221"
            ],
            [
             1,
             "#276419"
            ]
           ],
           "sequential": [
            [
             0,
             "#0d0887"
            ],
            [
             0.1111111111111111,
             "#46039f"
            ],
            [
             0.2222222222222222,
             "#7201a8"
            ],
            [
             0.3333333333333333,
             "#9c179e"
            ],
            [
             0.4444444444444444,
             "#bd3786"
            ],
            [
             0.5555555555555556,
             "#d8576b"
            ],
            [
             0.6666666666666666,
             "#ed7953"
            ],
            [
             0.7777777777777778,
             "#fb9f3a"
            ],
            [
             0.8888888888888888,
             "#fdca26"
            ],
            [
             1,
             "#f0f921"
            ]
           ],
           "sequentialminus": [
            [
             0,
             "#0d0887"
            ],
            [
             0.1111111111111111,
             "#46039f"
            ],
            [
             0.2222222222222222,
             "#7201a8"
            ],
            [
             0.3333333333333333,
             "#9c179e"
            ],
            [
             0.4444444444444444,
             "#bd3786"
            ],
            [
             0.5555555555555556,
             "#d8576b"
            ],
            [
             0.6666666666666666,
             "#ed7953"
            ],
            [
             0.7777777777777778,
             "#fb9f3a"
            ],
            [
             0.8888888888888888,
             "#fdca26"
            ],
            [
             1,
             "#f0f921"
            ]
           ]
          },
          "colorway": [
           "#636efa",
           "#EF553B",
           "#00cc96",
           "#ab63fa",
           "#FFA15A",
           "#19d3f3",
           "#FF6692",
           "#B6E880",
           "#FF97FF",
           "#FECB52"
          ],
          "font": {
           "color": "#f2f5fa"
          },
          "geo": {
           "bgcolor": "rgb(17,17,17)",
           "lakecolor": "rgb(17,17,17)",
           "landcolor": "rgb(17,17,17)",
           "showlakes": true,
           "showland": true,
           "subunitcolor": "#506784"
          },
          "hoverlabel": {
           "align": "left"
          },
          "hovermode": "closest",
          "mapbox": {
           "style": "dark"
          },
          "paper_bgcolor": "rgb(17,17,17)",
          "plot_bgcolor": "rgb(17,17,17)",
          "polar": {
           "angularaxis": {
            "gridcolor": "#506784",
            "linecolor": "#506784",
            "ticks": ""
           },
           "bgcolor": "rgb(17,17,17)",
           "radialaxis": {
            "gridcolor": "#506784",
            "linecolor": "#506784",
            "ticks": ""
           }
          },
          "scene": {
           "xaxis": {
            "backgroundcolor": "rgb(17,17,17)",
            "gridcolor": "#506784",
            "gridwidth": 2,
            "linecolor": "#506784",
            "showbackground": true,
            "ticks": "",
            "zerolinecolor": "#C8D4E3"
           },
           "yaxis": {
            "backgroundcolor": "rgb(17,17,17)",
            "gridcolor": "#506784",
            "gridwidth": 2,
            "linecolor": "#506784",
            "showbackground": true,
            "ticks": "",
            "zerolinecolor": "#C8D4E3"
           },
           "zaxis": {
            "backgroundcolor": "rgb(17,17,17)",
            "gridcolor": "#506784",
            "gridwidth": 2,
            "linecolor": "#506784",
            "showbackground": true,
            "ticks": "",
            "zerolinecolor": "#C8D4E3"
           }
          },
          "shapedefaults": {
           "line": {
            "color": "#f2f5fa"
           }
          },
          "sliderdefaults": {
           "bgcolor": "#C8D4E3",
           "bordercolor": "rgb(17,17,17)",
           "borderwidth": 1,
           "tickwidth": 0
          },
          "ternary": {
           "aaxis": {
            "gridcolor": "#506784",
            "linecolor": "#506784",
            "ticks": ""
           },
           "baxis": {
            "gridcolor": "#506784",
            "linecolor": "#506784",
            "ticks": ""
           },
           "bgcolor": "rgb(17,17,17)",
           "caxis": {
            "gridcolor": "#506784",
            "linecolor": "#506784",
            "ticks": ""
           }
          },
          "title": {
           "x": 0.05
          },
          "updatemenudefaults": {
           "bgcolor": "#506784",
           "borderwidth": 0
          },
          "xaxis": {
           "automargin": true,
           "gridcolor": "#283442",
           "linecolor": "#506784",
           "ticks": "",
           "title": {
            "standoff": 15
           },
           "zerolinecolor": "#283442",
           "zerolinewidth": 2
          },
          "yaxis": {
           "automargin": true,
           "gridcolor": "#283442",
           "linecolor": "#506784",
           "ticks": "",
           "title": {
            "standoff": 15
           },
           "zerolinecolor": "#283442",
           "zerolinewidth": 2
          }
         }
        },
        "xaxis": {
         "anchor": "y",
         "domain": [
          0,
          1
         ],
         "title": {
          "text": "Quarter"
         }
        },
        "yaxis": {
         "anchor": "x",
         "domain": [
          0,
          1
         ],
         "range": [
          200,
          600
         ],
         "title": {
          "text": "Description Length"
         }
        }
       }
      }
     },
     "metadata": {}
    }
   ],
   "metadata": {}
  },
  {
   "cell_type": "code",
   "execution_count": 16,
   "source": [
    "shows"
   ],
   "outputs": [
    {
     "output_type": "execute_result",
     "data": {
      "text/html": [
       "<div>\n",
       "<style scoped>\n",
       "    .dataframe tbody tr th:only-of-type {\n",
       "        vertical-align: middle;\n",
       "    }\n",
       "\n",
       "    .dataframe tbody tr th {\n",
       "        vertical-align: top;\n",
       "    }\n",
       "\n",
       "    .dataframe thead th {\n",
       "        text-align: right;\n",
       "    }\n",
       "</style>\n",
       "<table border=\"1\" class=\"dataframe\">\n",
       "  <thead>\n",
       "    <tr style=\"text-align: right;\">\n",
       "      <th></th>\n",
       "      <th>index</th>\n",
       "      <th>date</th>\n",
       "      <th>article</th>\n",
       "      <th>title</th>\n",
       "      <th>date_and_time</th>\n",
       "      <th>sendung_id</th>\n",
       "      <th>year</th>\n",
       "      <th>month</th>\n",
       "      <th>quarter</th>\n",
       "      <th>day</th>\n",
       "      <th>weekday</th>\n",
       "      <th>timeslot</th>\n",
       "      <th>desc_length</th>\n",
       "      <th>episodes_that_day</th>\n",
       "      <th>num_topics</th>\n",
       "    </tr>\n",
       "  </thead>\n",
       "  <tbody>\n",
       "    <tr>\n",
       "      <th>0</th>\n",
       "      <td>0</td>\n",
       "      <td>2013-04-22</td>\n",
       "      <td>['Der Fall Hoeneß', ' Selbstanzeigen als Auswe...</td>\n",
       "      <td>tagesthemen</td>\n",
       "      <td>2013-04-22 22:15:00</td>\n",
       "      <td>0</td>\n",
       "      <td>2013</td>\n",
       "      <td>4</td>\n",
       "      <td>2013/2</td>\n",
       "      <td>22</td>\n",
       "      <td>Monday</td>\n",
       "      <td>2200</td>\n",
       "      <td>303</td>\n",
       "      <td>2</td>\n",
       "      <td>10</td>\n",
       "    </tr>\n",
       "    <tr>\n",
       "      <th>1</th>\n",
       "      <td>1</td>\n",
       "      <td>2013-04-22</td>\n",
       "      <td>['Warnstreik Lufthansa', ' Mindestlohn für Fri...</td>\n",
       "      <td>tagesschau</td>\n",
       "      <td>2013-04-22 20:00:00</td>\n",
       "      <td>1</td>\n",
       "      <td>2013</td>\n",
       "      <td>4</td>\n",
       "      <td>2013/2</td>\n",
       "      <td>22</td>\n",
       "      <td>Monday</td>\n",
       "      <td>2000</td>\n",
       "      <td>346</td>\n",
       "      <td>2</td>\n",
       "      <td>11</td>\n",
       "    </tr>\n",
       "    <tr>\n",
       "      <th>2</th>\n",
       "      <td>2</td>\n",
       "      <td>2013-04-23</td>\n",
       "      <td>['Steuer-Fall Hoeneß', ' Götze wechselt zum FC...</td>\n",
       "      <td>tagesthemen</td>\n",
       "      <td>2013-04-23 22:15:00</td>\n",
       "      <td>2</td>\n",
       "      <td>2013</td>\n",
       "      <td>4</td>\n",
       "      <td>2013/2</td>\n",
       "      <td>23</td>\n",
       "      <td>Tuesday</td>\n",
       "      <td>2200</td>\n",
       "      <td>215</td>\n",
       "      <td>2</td>\n",
       "      <td>9</td>\n",
       "    </tr>\n",
       "    <tr>\n",
       "      <th>3</th>\n",
       "      <td>3</td>\n",
       "      <td>2013-04-23</td>\n",
       "      <td>['Der Steuer-Fall Hoeneß', ' FC Bayern vor CL-...</td>\n",
       "      <td>tagesschau</td>\n",
       "      <td>2013-04-23 20:00:00</td>\n",
       "      <td>3</td>\n",
       "      <td>2013</td>\n",
       "      <td>4</td>\n",
       "      <td>2013/2</td>\n",
       "      <td>23</td>\n",
       "      <td>Tuesday</td>\n",
       "      <td>2000</td>\n",
       "      <td>344</td>\n",
       "      <td>2</td>\n",
       "      <td>12</td>\n",
       "    </tr>\n",
       "    <tr>\n",
       "      <th>4</th>\n",
       "      <td>4</td>\n",
       "      <td>2013-04-24</td>\n",
       "      <td>['Debatte über Steuerhinterziehung', ' Der Kom...</td>\n",
       "      <td>tagesthemen</td>\n",
       "      <td>2013-04-24 22:15:00</td>\n",
       "      <td>4</td>\n",
       "      <td>2013</td>\n",
       "      <td>4</td>\n",
       "      <td>2013/2</td>\n",
       "      <td>24</td>\n",
       "      <td>Wednesday</td>\n",
       "      <td>2200</td>\n",
       "      <td>271</td>\n",
       "      <td>2</td>\n",
       "      <td>10</td>\n",
       "    </tr>\n",
       "    <tr>\n",
       "      <th>...</th>\n",
       "      <td>...</td>\n",
       "      <td>...</td>\n",
       "      <td>...</td>\n",
       "      <td>...</td>\n",
       "      <td>...</td>\n",
       "      <td>...</td>\n",
       "      <td>...</td>\n",
       "      <td>...</td>\n",
       "      <td>...</td>\n",
       "      <td>...</td>\n",
       "      <td>...</td>\n",
       "      <td>...</td>\n",
       "      <td>...</td>\n",
       "      <td>...</td>\n",
       "      <td>...</td>\n",
       "    </tr>\n",
       "    <tr>\n",
       "      <th>6146</th>\n",
       "      <td>6147</td>\n",
       "      <td>2021-09-11</td>\n",
       "      <td>['20 Jahre 9/11: USA gedenken der Opfer der An...</td>\n",
       "      <td>tagesschau</td>\n",
       "      <td>2021-09-11 20:00:00</td>\n",
       "      <td>6147</td>\n",
       "      <td>2021</td>\n",
       "      <td>9</td>\n",
       "      <td>2021/3</td>\n",
       "      <td>11</td>\n",
       "      <td>Saturday</td>\n",
       "      <td>2000</td>\n",
       "      <td>483</td>\n",
       "      <td>2</td>\n",
       "      <td>11</td>\n",
       "    </tr>\n",
       "    <tr>\n",
       "      <th>6147</th>\n",
       "      <td>6148</td>\n",
       "      <td>2021-09-12</td>\n",
       "      <td>['TV-Triell der Kanzlerkandidaten: Wer punktet...</td>\n",
       "      <td>tagesthemen</td>\n",
       "      <td>2021-09-12 22:50:00</td>\n",
       "      <td>6148</td>\n",
       "      <td>2021</td>\n",
       "      <td>9</td>\n",
       "      <td>2021/3</td>\n",
       "      <td>12</td>\n",
       "      <td>Sunday</td>\n",
       "      <td>2240</td>\n",
       "      <td>197</td>\n",
       "      <td>2</td>\n",
       "      <td>6</td>\n",
       "    </tr>\n",
       "    <tr>\n",
       "      <th>6148</th>\n",
       "      <td>6149</td>\n",
       "      <td>2021-09-12</td>\n",
       "      <td>['Erneuter Schlagabtausch der Kanzlerkandidate...</td>\n",
       "      <td>tagesschau</td>\n",
       "      <td>2021-09-12 20:00:00</td>\n",
       "      <td>6149</td>\n",
       "      <td>2021</td>\n",
       "      <td>9</td>\n",
       "      <td>2021/3</td>\n",
       "      <td>12</td>\n",
       "      <td>Sunday</td>\n",
       "      <td>2000</td>\n",
       "      <td>841</td>\n",
       "      <td>2</td>\n",
       "      <td>15</td>\n",
       "    </tr>\n",
       "    <tr>\n",
       "      <th>6149</th>\n",
       "      <td>6150</td>\n",
       "      <td>2021-09-13</td>\n",
       "      <td>['Endspurt vor der Wahl: Wieviel geht noch bei...</td>\n",
       "      <td>tagesthemen</td>\n",
       "      <td>2021-09-13 22:30:00</td>\n",
       "      <td>6150</td>\n",
       "      <td>2021</td>\n",
       "      <td>9</td>\n",
       "      <td>2021/3</td>\n",
       "      <td>13</td>\n",
       "      <td>Monday</td>\n",
       "      <td>2220</td>\n",
       "      <td>335</td>\n",
       "      <td>2</td>\n",
       "      <td>7</td>\n",
       "    </tr>\n",
       "    <tr>\n",
       "      <th>6150</th>\n",
       "      <td>6151</td>\n",
       "      <td>2021-09-13</td>\n",
       "      <td>['Reaktionen nach Aufeinandertreffen der Kanzl...</td>\n",
       "      <td>tagesschau</td>\n",
       "      <td>2021-09-13 20:00:00</td>\n",
       "      <td>6151</td>\n",
       "      <td>2021</td>\n",
       "      <td>9</td>\n",
       "      <td>2021/3</td>\n",
       "      <td>13</td>\n",
       "      <td>Monday</td>\n",
       "      <td>2000</td>\n",
       "      <td>578</td>\n",
       "      <td>2</td>\n",
       "      <td>10</td>\n",
       "    </tr>\n",
       "  </tbody>\n",
       "</table>\n",
       "<p>6151 rows × 15 columns</p>\n",
       "</div>"
      ],
      "text/plain": [
       "      index       date                                            article  \\\n",
       "0         0 2013-04-22  ['Der Fall Hoeneß', ' Selbstanzeigen als Auswe...   \n",
       "1         1 2013-04-22  ['Warnstreik Lufthansa', ' Mindestlohn für Fri...   \n",
       "2         2 2013-04-23  ['Steuer-Fall Hoeneß', ' Götze wechselt zum FC...   \n",
       "3         3 2013-04-23  ['Der Steuer-Fall Hoeneß', ' FC Bayern vor CL-...   \n",
       "4         4 2013-04-24  ['Debatte über Steuerhinterziehung', ' Der Kom...   \n",
       "...     ...        ...                                                ...   \n",
       "6146   6147 2021-09-11  ['20 Jahre 9/11: USA gedenken der Opfer der An...   \n",
       "6147   6148 2021-09-12  ['TV-Triell der Kanzlerkandidaten: Wer punktet...   \n",
       "6148   6149 2021-09-12  ['Erneuter Schlagabtausch der Kanzlerkandidate...   \n",
       "6149   6150 2021-09-13  ['Endspurt vor der Wahl: Wieviel geht noch bei...   \n",
       "6150   6151 2021-09-13  ['Reaktionen nach Aufeinandertreffen der Kanzl...   \n",
       "\n",
       "            title       date_and_time  sendung_id  year  month quarter  day  \\\n",
       "0     tagesthemen 2013-04-22 22:15:00           0  2013      4  2013/2   22   \n",
       "1      tagesschau 2013-04-22 20:00:00           1  2013      4  2013/2   22   \n",
       "2     tagesthemen 2013-04-23 22:15:00           2  2013      4  2013/2   23   \n",
       "3      tagesschau 2013-04-23 20:00:00           3  2013      4  2013/2   23   \n",
       "4     tagesthemen 2013-04-24 22:15:00           4  2013      4  2013/2   24   \n",
       "...           ...                 ...         ...   ...    ...     ...  ...   \n",
       "6146   tagesschau 2021-09-11 20:00:00        6147  2021      9  2021/3   11   \n",
       "6147  tagesthemen 2021-09-12 22:50:00        6148  2021      9  2021/3   12   \n",
       "6148   tagesschau 2021-09-12 20:00:00        6149  2021      9  2021/3   12   \n",
       "6149  tagesthemen 2021-09-13 22:30:00        6150  2021      9  2021/3   13   \n",
       "6150   tagesschau 2021-09-13 20:00:00        6151  2021      9  2021/3   13   \n",
       "\n",
       "        weekday  timeslot  desc_length  episodes_that_day  num_topics  \n",
       "0        Monday      2200          303                  2          10  \n",
       "1        Monday      2000          346                  2          11  \n",
       "2       Tuesday      2200          215                  2           9  \n",
       "3       Tuesday      2000          344                  2          12  \n",
       "4     Wednesday      2200          271                  2          10  \n",
       "...         ...       ...          ...                ...         ...  \n",
       "6146   Saturday      2000          483                  2          11  \n",
       "6147     Sunday      2240          197                  2           6  \n",
       "6148     Sunday      2000          841                  2          15  \n",
       "6149     Monday      2220          335                  2           7  \n",
       "6150     Monday      2000          578                  2          10  \n",
       "\n",
       "[6151 rows x 15 columns]"
      ]
     },
     "metadata": {},
     "execution_count": 16
    }
   ],
   "metadata": {}
  },
  {
   "cell_type": "code",
   "execution_count": null,
   "source": [],
   "outputs": [],
   "metadata": {}
  }
 ],
 "metadata": {
  "orig_nbformat": 4,
  "language_info": {
   "name": "python",
   "version": "3.8.8",
   "mimetype": "text/x-python",
   "codemirror_mode": {
    "name": "ipython",
    "version": 3
   },
   "pygments_lexer": "ipython3",
   "nbconvert_exporter": "python",
   "file_extension": ".py"
  },
  "kernelspec": {
   "name": "python3",
   "display_name": "Python 3.8.8 64-bit ('base': conda)"
  },
  "interpreter": {
   "hash": "d165cc963bcabd8bdd323ef0c94434871da12394ba82de0f324bd3f8fc85e6b9"
  }
 },
 "nbformat": 4,
 "nbformat_minor": 2
}