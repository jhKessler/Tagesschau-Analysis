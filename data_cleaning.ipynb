{
 "metadata": {
  "language_info": {
   "codemirror_mode": {
    "name": "ipython",
    "version": 3
   },
   "file_extension": ".py",
   "mimetype": "text/x-python",
   "name": "python",
   "nbconvert_exporter": "python",
   "pygments_lexer": "ipython3",
   "version": "3.8.8"
  },
  "orig_nbformat": 4,
  "kernelspec": {
   "name": "python3",
   "display_name": "Python 3.8.8 64-bit ('base': conda)"
  },
  "interpreter": {
   "hash": "d165cc963bcabd8bdd323ef0c94434871da12394ba82de0f324bd3f8fc85e6b9"
  }
 },
 "nbformat": 4,
 "nbformat_minor": 2,
 "cells": [
  {
   "cell_type": "code",
   "execution_count": 2,
   "source": [
    "# imports\r\n",
    "import pandas as pd\r\n",
    "import numpy as np\r\n",
    "\r\n",
    "# load data\r\n",
    "data = pd.read_excel(\"data/tagesschau_articles.xlsx\")"
   ],
   "outputs": [],
   "metadata": {}
  },
  {
   "cell_type": "code",
   "execution_count": 4,
   "source": [
    "# check if date of URL matches time text\r\n",
    "\r\n",
    "# format time string to datetime obj and drop string from df\r\n",
    "data[\"date_and_time\"] = pd.to_datetime(data[\"time_text\"], format=\"%d.%m.%Y %H:%M Uhr\")\r\n",
    "data.drop(columns=[\"time_text\"], inplace=True)\r\n",
    "\r\n",
    "# format time strings to datetime\r\n",
    "data[\"date\"] = pd.to_datetime(data[\"date\"], format=\"%d/%m/%Y\")\r\n",
    "\r\n",
    "\r\n",
    "# store values where URL date is different to date text\r\n",
    "data[\"proofdate\"] = data[\"date_and_time\"].dt.date\r\n",
    "not_matching = data[\"date\"].compare(data[\"proofdate\"])\r\n",
    "data.iloc[not_matching.index]"
   ],
   "outputs": [
    {
     "output_type": "execute_result",
     "data": {
      "text/html": [
       "<div>\n",
       "<style scoped>\n",
       "    .dataframe tbody tr th:only-of-type {\n",
       "        vertical-align: middle;\n",
       "    }\n",
       "\n",
       "    .dataframe tbody tr th {\n",
       "        vertical-align: top;\n",
       "    }\n",
       "\n",
       "    .dataframe thead th {\n",
       "        text-align: right;\n",
       "    }\n",
       "</style>\n",
       "<table border=\"1\" class=\"dataframe\">\n",
       "  <thead>\n",
       "    <tr style=\"text-align: right;\">\n",
       "      <th></th>\n",
       "      <th>date</th>\n",
       "      <th>article</th>\n",
       "      <th>title</th>\n",
       "      <th>date_and_time</th>\n",
       "      <th>proofdate</th>\n",
       "    </tr>\n",
       "  </thead>\n",
       "  <tbody>\n",
       "    <tr>\n",
       "      <th>79</th>\n",
       "      <td>2013-06-01</td>\n",
       "      <td>Bayern München holt Tripel, Hochwassersituatio...</td>\n",
       "      <td>tagesthemen</td>\n",
       "      <td>2013-06-02 00:03:00</td>\n",
       "      <td>2013-06-02</td>\n",
       "    </tr>\n",
       "    <tr>\n",
       "      <th>778</th>\n",
       "      <td>2014-05-17</td>\n",
       "      <td>Überflutungen in Osteuropa, Zweiter Runder Tis...</td>\n",
       "      <td>tagesthemen</td>\n",
       "      <td>2014-05-18 00:12:00</td>\n",
       "      <td>2014-05-18</td>\n",
       "    </tr>\n",
       "    <tr>\n",
       "      <th>2252</th>\n",
       "      <td>2016-05-21</td>\n",
       "      <td>Türkei lässt hochqualifizierte Flüchtlinge nic...</td>\n",
       "      <td>tagesthemen</td>\n",
       "      <td>2016-05-22 00:30:00</td>\n",
       "      <td>2016-05-22</td>\n",
       "    </tr>\n",
       "    <tr>\n",
       "      <th>2296</th>\n",
       "      <td>2016-06-12</td>\n",
       "      <td>Schießerei in Nachtklub in Orlando, Vor Ort in...</td>\n",
       "      <td>tagesthemen</td>\n",
       "      <td>2016-06-13 00:27:00</td>\n",
       "      <td>2016-06-13</td>\n",
       "    </tr>\n",
       "    <tr>\n",
       "      <th>2813</th>\n",
       "      <td>2017-02-24</td>\n",
       "      <td>US-Präsident Trump bei der Jahresversammlung d...</td>\n",
       "      <td>tagesthemen</td>\n",
       "      <td>2017-02-25 00:10:00</td>\n",
       "      <td>2017-02-25</td>\n",
       "    </tr>\n",
       "    <tr>\n",
       "      <th>3358</th>\n",
       "      <td>2017-11-19</td>\n",
       "      <td>FDP bricht Jamaika-Verhandlungen ab</td>\n",
       "      <td>tagesthemen extra</td>\n",
       "      <td>2017-11-20 00:00:00</td>\n",
       "      <td>2017-11-20</td>\n",
       "    </tr>\n",
       "  </tbody>\n",
       "</table>\n",
       "</div>"
      ],
      "text/plain": [
       "           date                                            article  \\\n",
       "79   2013-06-01  Bayern München holt Tripel, Hochwassersituatio...   \n",
       "778  2014-05-17  Überflutungen in Osteuropa, Zweiter Runder Tis...   \n",
       "2252 2016-05-21  Türkei lässt hochqualifizierte Flüchtlinge nic...   \n",
       "2296 2016-06-12  Schießerei in Nachtklub in Orlando, Vor Ort in...   \n",
       "2813 2017-02-24  US-Präsident Trump bei der Jahresversammlung d...   \n",
       "3358 2017-11-19                FDP bricht Jamaika-Verhandlungen ab   \n",
       "\n",
       "                  title       date_and_time   proofdate  \n",
       "79          tagesthemen 2013-06-02 00:03:00  2013-06-02  \n",
       "778         tagesthemen 2014-05-18 00:12:00  2014-05-18  \n",
       "2252        tagesthemen 2016-05-22 00:30:00  2016-05-22  \n",
       "2296        tagesthemen 2016-06-13 00:27:00  2016-06-13  \n",
       "2813        tagesthemen 2017-02-25 00:10:00  2017-02-25  \n",
       "3358  tagesthemen extra 2017-11-20 00:00:00  2017-11-20  "
      ]
     },
     "metadata": {},
     "execution_count": 4
    }
   ],
   "metadata": {}
  },
  {
   "cell_type": "markdown",
   "source": [
    "Seems like all these episodes are just misclassified as the day before, so lets just use the date from the timestring since its more accurate"
   ],
   "metadata": {}
  },
  {
   "cell_type": "code",
   "execution_count": 5,
   "source": [
    "data[\"date\"] = data[\"proofdate\"]\r\n",
    "data.drop(columns=[\"proofdate\"], inplace=True)"
   ],
   "outputs": [],
   "metadata": {}
  },
  {
   "cell_type": "code",
   "execution_count": 6,
   "source": [
    "# adding year, month, quarter, day, weekday, and timeslot as military time\r\n",
    "data[\"year\"] = data[\"date_and_time\"].dt.year\r\n",
    "data[\"month\"] = data[\"date_and_time\"].dt.month\r\n",
    "data[\"quarter\"] = data[\"date_and_time\"].dt.quarter.astype(str) + \"/\" + data[\"year\"].astype(str)\r\n",
    "data[\"day\"] = data[\"date_and_time\"].dt.day\r\n",
    "data[\"weekday\"] = data[\"date_and_time\"].dt.dayofweek\r\n",
    "data[\"timeslot\"] = data[\"date_and_time\"].dt.strftime(\"%H%M\").astype(int) - data[\"date_and_time\"].dt.strftime(\"%H%M\").astype(int) % 20"
   ],
   "outputs": [],
   "metadata": {}
  },
  {
   "cell_type": "code",
   "execution_count": 7,
   "source": [
    "# lets look for duplicates in the data\r\n",
    "data.groupby(\"date_and_time\").size().nlargest(5)"
   ],
   "outputs": [
    {
     "output_type": "execute_result",
     "data": {
      "text/plain": [
       "date_and_time\n",
       "2015-01-19 22:15:00    2\n",
       "2013-04-22 20:00:00    1\n",
       "2013-04-22 22:15:00    1\n",
       "2013-04-23 20:00:00    1\n",
       "2013-04-23 22:15:00    1\n",
       "dtype: int64"
      ]
     },
     "metadata": {},
     "execution_count": 7
    }
   ],
   "metadata": {}
  },
  {
   "cell_type": "markdown",
   "source": [
    "Seems like there is a duplicate episode lets make sure it really is the same and if so, remove it"
   ],
   "metadata": {}
  },
  {
   "cell_type": "code",
   "execution_count": 8,
   "source": [
    "data[data[\"date_and_time\"] == \"2015-01-19 22:15:00\"]"
   ],
   "outputs": [
    {
     "output_type": "execute_result",
     "data": {
      "text/html": [
       "<div>\n",
       "<style scoped>\n",
       "    .dataframe tbody tr th:only-of-type {\n",
       "        vertical-align: middle;\n",
       "    }\n",
       "\n",
       "    .dataframe tbody tr th {\n",
       "        vertical-align: top;\n",
       "    }\n",
       "\n",
       "    .dataframe thead th {\n",
       "        text-align: right;\n",
       "    }\n",
       "</style>\n",
       "<table border=\"1\" class=\"dataframe\">\n",
       "  <thead>\n",
       "    <tr style=\"text-align: right;\">\n",
       "      <th></th>\n",
       "      <th>date</th>\n",
       "      <th>article</th>\n",
       "      <th>title</th>\n",
       "      <th>date_and_time</th>\n",
       "      <th>year</th>\n",
       "      <th>month</th>\n",
       "      <th>quarter</th>\n",
       "      <th>day</th>\n",
       "      <th>weekday</th>\n",
       "      <th>timeslot</th>\n",
       "    </tr>\n",
       "  </thead>\n",
       "  <tbody>\n",
       "    <tr>\n",
       "      <th>1271</th>\n",
       "      <td>2015-01-19</td>\n",
       "      <td>Diskussion um Versammlungsfreiheit, Der Kommen...</td>\n",
       "      <td>tagesthemen</td>\n",
       "      <td>2015-01-19 22:15:00</td>\n",
       "      <td>2015</td>\n",
       "      <td>1</td>\n",
       "      <td>1/2015</td>\n",
       "      <td>19</td>\n",
       "      <td>0</td>\n",
       "      <td>2200</td>\n",
       "    </tr>\n",
       "    <tr>\n",
       "      <th>1272</th>\n",
       "      <td>2015-01-19</td>\n",
       "      <td>Diskussion um Versammlungsfreiheit, Der Kommen...</td>\n",
       "      <td>tagesthemen</td>\n",
       "      <td>2015-01-19 22:15:00</td>\n",
       "      <td>2015</td>\n",
       "      <td>1</td>\n",
       "      <td>1/2015</td>\n",
       "      <td>19</td>\n",
       "      <td>0</td>\n",
       "      <td>2200</td>\n",
       "    </tr>\n",
       "  </tbody>\n",
       "</table>\n",
       "</div>"
      ],
      "text/plain": [
       "            date                                            article  \\\n",
       "1271  2015-01-19  Diskussion um Versammlungsfreiheit, Der Kommen...   \n",
       "1272  2015-01-19  Diskussion um Versammlungsfreiheit, Der Kommen...   \n",
       "\n",
       "            title       date_and_time  year  month quarter  day  weekday  \\\n",
       "1271  tagesthemen 2015-01-19 22:15:00  2015      1  1/2015   19        0   \n",
       "1272  tagesthemen 2015-01-19 22:15:00  2015      1  1/2015   19        0   \n",
       "\n",
       "      timeslot  \n",
       "1271      2200  \n",
       "1272      2200  "
      ]
     },
     "metadata": {},
     "execution_count": 8
    }
   ],
   "metadata": {}
  },
  {
   "cell_type": "code",
   "execution_count": 9,
   "source": [
    "# remove duplicate episode\r\n",
    "data.drop(index=1271, inplace=True)"
   ],
   "outputs": [],
   "metadata": {}
  },
  {
   "cell_type": "code",
   "execution_count": 10,
   "source": [
    "# add len of description to data\r\n",
    "data[\"desc_length\"] = data[\"article\"].str.len()\r\n",
    "\r\n",
    "# add number of episode of day to dataframe\r\n",
    "episodes_that_day = data.groupby(\"date\").size().to_frame()\r\n",
    "episodes_that_day.columns = [\"episodes_that_day\"]\r\n",
    "data = data.merge(episodes_that_day, how=\"left\", on=\"date\")"
   ],
   "outputs": [],
   "metadata": {}
  },
  {
   "cell_type": "code",
   "execution_count": 11,
   "source": [
    "# format article to different topics and add number of topics that episode\r\n",
    "data[\"article\"] = data[\"article\"].str.split(\",\")\r\n",
    "data[\"num_topics\"] = data[\"article\"].str.len()"
   ],
   "outputs": [],
   "metadata": {}
  },
  {
   "cell_type": "code",
   "execution_count": 12,
   "source": [
    "# unstack \"article\" column to every topic\r\n",
    "stacked_column = \"article\"\r\n",
    "other_columns = data.columns.difference([stacked_column])\r\n",
    "all_topics = [topic for sublist in data[stacked_column] for topic in sublist]\r\n",
    "\r\n",
    "unstacked_df = {\r\n",
    "    col: np.repeat(data[col], data[\"num_topics\"]) for col in other_columns\r\n",
    "}\r\n",
    "unstacked_df[\"topic\"] = all_topics\r\n",
    "data = pd.DataFrame(unstacked_df)\r\n",
    "\r\n",
    "# format title column so they are rightly classified\r\n",
    "data[\"title\"] = data[\"title\"].str.lower().str.replace(\" \", \"\")\r\n",
    "\r\n",
    "data[\"topic\"] = data[\"topic\"].astype(\"str\")"
   ],
   "outputs": [],
   "metadata": {}
  },
  {
   "cell_type": "code",
   "execution_count": 13,
   "source": [
    "# save cleaned data to csv\r\n",
    "data.to_excel(\"data/cleaned_data.xlsx\", index=False)"
   ],
   "outputs": [],
   "metadata": {}
  }
 ]
}