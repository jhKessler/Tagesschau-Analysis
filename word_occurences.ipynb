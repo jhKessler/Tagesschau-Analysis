{
 "cells": [
  {
   "cell_type": "code",
   "execution_count": 41,
   "source": [
    "# imports\r\n",
    "import pandas as pd\r\n",
    "import plotly.express as px\r\n",
    "\r\n",
    "\r\n",
    "topics = pd.read_pickle(\"data/topics.pkl\") # load data\r\n",
    "\r\n",
    "# build god strings to search in\r\n",
    "quarter_topic_god_strings = []\r\n",
    "for quarter in topics[\"quarter\"].unique():\r\n",
    "    quarter_topics = topics[topics[\"quarter\"] == quarter][\"topic\"].to_list()\r\n",
    "    quarter_topic_god_strings.append([quarter, \" \".join(quarter_topics)])\r\n",
    "\r\n",
    "\r\n",
    "def count_word_occurrences(word: str) -> pd.DataFrame:\r\n",
    "    \"\"\"Counts occurences of given word in every quarter and returns dataframe object\"\"\"\r\n",
    "    global quarter_topic_god_strings\r\n",
    "    word = word.lower()\r\n",
    "    result = []\r\n",
    "    for quarter, god_string in quarter_topic_god_strings:\r\n",
    "        occurrences = god_string.lower().count(word)\r\n",
    "        result.append([quarter, occurrences])\r\n",
    "    return pd.DataFrame(result, columns=[\"quarter\", \"occurrences\"])\r\n",
    "\r\n",
    "def plot_word_occurrences(word: str, year: int = None):\r\n",
    "    \"\"\"Plots occurence of given word per Quarter, if year is set, also prints the articles of that year \"\"\"\r\n",
    "    counts = count_word_occurrences(word)\r\n",
    "\r\n",
    "    if year is not None:\r\n",
    "        year_topics = topics[topics[\"year\"] == year]\r\n",
    "        word_topics_that_year = year_topics[year_topics[\"topic\"].str.contains(word, case=False)][\"topic\"].str.strip()\r\n",
    "        for t in word_topics_that_year:\r\n",
    "            print(t)\r\n",
    "\r\n",
    "    fig = px.line(\r\n",
    "        counts,\r\n",
    "        title = f\"Mentions of word \\\"{word.capitalize()}\\\" per quarter\",\r\n",
    "        x = \"quarter\", \r\n",
    "        y = \"occurrences\", \r\n",
    "        template = \"plotly_dark\",\r\n",
    "        labels = {\"occurrences\": \"Number of Mentions\", \"quarter\": \"Year\", },\r\n",
    "        width = 1000,\r\n",
    "        height = 500\r\n",
    "    )\r\n",
    "\r\n",
    "    x_labels = [\" \" if not label.endswith(\"1\") else label.split(\"/\")[0] for label in topics[\"quarter\"].unique()]\r\n",
    "\r\n",
    "    fig.update_layout(\r\n",
    "        xaxis = dict(\r\n",
    "            tickmode = 'array',\r\n",
    "            tickvals = list(range(len(x_labels))),\r\n",
    "            ticktext = x_labels\r\n",
    "        )\r\n",
    "    )\r\n",
    "    fig.show()"
   ],
   "outputs": [],
   "metadata": {}
  },
  {
   "cell_type": "code",
   "execution_count": 43,
   "source": [
    "plot_word_occurrences(\"trump\", year=2019)"
   ],
   "outputs": [
    {
     "output_type": "stream",
     "name": "stdout",
     "text": [
      "Trump verteidigt Mauer-Idee vor Nation und droht wieder mit Notstand\n",
      "Trump schürt Angst vor illegaler Einwanderung und wirbt für Mauer\n",
      "US-Streit mit der Türkei: Trump droht Türkei bei Angriff auf Kurden in Syrien\n",
      "Weiteres Treffen zwischen Trump und Kim für Februar geplant\n",
      "Andauernder Shutdown: Demokraten weisen Trumps Vorschlag zurück\n",
      "US-Haushaltsstreit: Trump verschiebt Rede zur Lage der Nation\n",
      "US-Shutdown: Präsident Trump und Kongress-Spitzen einigen sich offenbar auf ein vorläufiges Haushaltsgessetz\n",
      "Trump rückt in Rede zur Lage der Naton nicht von seinen bekannten Positionen ab\n",
      "Mauerstreit: Trump und der Kompromissvorschlag\n",
      "Reportage: Streit um Donald Trumps Grenzsicherung\n",
      "Trump wird nationalen Notstand erklären\n",
      "US-Präsident Trump ruft Nationalen Notstand aus\n",
      "US-Präsident Trump ruft Nationalen Notstand aus\n",
      "Trump stößt auf breiten Widerstand nach Ausrufung des nationalen Notstands\n",
      "Trump fordert Rücknahme von europäischen IS-Kämpfern\n",
      "Trump Kandidatin Nauert zieht Bewerbung als UN-Botschafterin zurück\n",
      "Gipfeltreffen von Trump und Kim in Hanoi\n",
      "Ex-Anwalt Cohen wendet sich bei Anhörung gegen Trump\n",
      "Gipfeltreffen zwischen Trump und Kim in Vietnam\n",
      "Kongress-Anhörung: Cohen erhebt schwere Vorwürfe gegen Trump\n",
      "Zweiter Gipfel zwischen Trump und Kim soll mit Erklärung enden\n",
      "Vorzeitiger Abbruch des Gipfeltreffens zwischen US-Präsident Trump und Nordkoreas Machthaber Kim\n",
      "Gipfeltreffen zwischen Trump und Kim endet vorzeitig ergebnislos\n",
      "Trump besucht Konferenz des Konservativen Aktivistenverbands CPAC\n",
      "Trump schwört seine Anhänger beim Jahrestreffen der amerikanischen Konservativen auf Präsidentschaftswahlkampf ein\n",
      "Haftstrafe für Trumps früheren Wahlkampfleiter Manafort\n",
      "Trumps früherer Wahlkampfmanager muss siebeneinhalb Jahre in Haft\n",
      "Trump für Anerkennung von Souveränität Israels über Golanhöhen\n",
      "US-Sonderermittler Mueller übergibt Untersuchungsbericht zu Trump\n",
      "Mueller-Bericht: Keine Beweise für Absprachen zwischen Trump und Russland\n",
      "US-Präsident Trump erkennt Israels Souveränität über Golanhöhen an\n",
      "US-Präsident Trump erkennt Israels Souveränität über Golanhöhen an\n",
      "US-Heimatschutzministerin Nielsen verlässt Trumps Regierung\n",
      "Trump's \"Drain the Swamp\": Ein Zustandsbericht\n",
      "Trump erhöht Druck im Handelsstreit mit China\n",
      "US-Präsident Trump schränkt Marktzugang ausländischer Telekommunikationsanbieter per Notstandsdekret ein\n",
      "Trump droht dem Iran und warnt vor Eskalation\n",
      "Konflikt zwischen Trump und Opposition verschärft sich\n",
      "US-Waffenexporte: Regierung Trumps umgeht den Kongress\n",
      "US-Präsident Trump kündigt Sonderzölle gegen Mexiko an\n",
      "US-Präsident Trump zu Gast bei der Queen\n",
      "US-Präsident Trump sorgt für Verstimmung bei Staatsbesuch in Großbritannien\n",
      "US-Präsident Trump trifft Premierministerin May und stellt Handelsabkommen in Aussicht\n",
      "Treffen von US-Präsident Trump und Premierministerin May in Großbritannien\n",
      "Diplomatie am Schlachtfeld: Trump und Macron am D-Day in der Normandie\n",
      "Wahlkampfauftakt nach Trumps Ankündigung für zweite Amtszeit zu kandidieren\n",
      "\"Calexit\" - Kaliforniens Ausstiegspläne und die Anti-Trump-Bewegung\n",
      "US-Präsident Trump gibt Kandidatur für zweite Amtszeit bekannt\n",
      "US-Präsident Trump stoppt nach eigenen Angaben Angriff auf Iran\n",
      "US-Präsident Trump übertritt Nordkoreas Grenze und trifft Machthaber Kim\n",
      "US-Präsident Trump übertritt Nordkoreas Grenze und trifft Machthaber Kim\n",
      "US-Präsident Trump begeht Nationalfeiertag mit Rede und Militärshow\n",
      "Rassismusvorwürfe gegen US-Präsident Trump nach umstrittenen Äußerungen\n",
      "Trump facht die Rassismus-Debatte in den USA weiter an\n",
      "Trump wiederholt verbale Attacken gegen vier demokratische Kongress-Abgeordnete\n",
      "Trump darf Geld aus Verteidigungsetat für Mauerbau an Mexikos Grenze nutzen\n",
      "US-Präsident Trump kritisiert Leitzinssenkung der Fed als unzureichend\n",
      "US-Präsident Trump will Todesstrafe für Hassverbrechen mit Massenmord\n",
      "Anschläge in den USA: Kühler Empfang für Trump in Dayton und El Paso\n",
      "Trump-Regierung verschärft Regelungen für Green-Card-Vergabe\n",
      "Abgewiesener Grönland-Deal: Trump sagt Dänemark-Besuch ab\n",
      "Abgewiesener Grönland-Deal: Trump sagt Dänemark-Besuch ab\n",
      "Irans Präsident Rouhani stellt Vorbedingungen für Treffen mit US-Präsident Trump\n",
      "Trump sagt Treffen mit Taliban ab\n",
      "Trump erklärt Friedensgespräche zwischen den USA und Taliban für gescheitert\n",
      "Trump ernennt Diplomaten Robert O'Brien zum Nationalen Sicherheitsberater\n",
      "Trump-Rede vor der UN-Vollversammlung\n",
      "Trump-Rede vor der UN-Vollversammlung\n",
      "Droht Trump ein Amtsenthebungsverfahren? - Weißes Haus veröffentlicht Mitschrift von umstrittenen Selenski-Telefonat\n",
      "Weißes Haus veröffentlicht Mitschrift von Trump-Telefonat mit Ukraine\n",
      "Ukraine-Affäre: Präsident Trump gerät nach Whistleblower-Enthüllung zunehmend in Bedrängnis\n",
      "Ukraine-Affäre: Trump geht in die Gegenoffensive\n",
      "Trump vs. Pelosi: Stand der Impeachment-Debatte\n",
      "Reaktionen auf Trumps Aufforderung an China zu Biden-Ermittlungen\n",
      "US-Präsident Trump bestätigt Tod von IS-Anführer al-Bagdadi\n",
      "US-Demokraten treiben Amtsenthebungsverfahren gegen Trump voran\n",
      "US-Demokraten treiben Amtsenthebungsverfahren gegen Trump voran\n",
      "US-Präsident Trump gerät durch belastende Aussage in Ukraine-Affäre weiter unter Druck\n",
      "Erstmals öffentliche Anhörungen im Impeachment-Verfahren gegen Trump\n",
      "Erstmals öffentliche Anhörungen im Impeachment-Verfahren gegen Trump\n",
      "Demokraten im US-Kongress werfen Trump Einschüchterung von Zeugen vor\n",
      "Wichtiger Zeuge in Impeachment-Anhörungen belastet US-Präsident Trump schwer\n",
      "Schlüsselzeuge in Impeachment-Anhörungen untermauert Vorwürfe gegen US-Präsident Trump\n",
      "Auswirkungen von Trumps Umweltpolitik in North Dakota\n",
      "US-Präsident Trump reist zu Truppenbesuch nach Afghanistan\n",
      "Trump verweigert Anhörungstermin zu möglichem Amtsenthebungsverfahren\n",
      "So blicken US-Bürger auf das drohende Amtsenthebungsverfahren von Präsident Trump\n",
      "Weitere Anhörungen für ein mögliches Amtsenthebungsverfahren gegen US-Präsident Trump\n",
      "US-Repräsentantenhaus beantragt Anklage für Impeachment-Verfahren gegen Trump\n",
      "Impeachment Trump: US-Demokraten stellen Anklagepunkte für Amtsenthebungsverfahren vor\n",
      "Offizielle Eröffnung zum Amtsenthebungsverfahren von US-Präsident Trump\n",
      "Amtsenthebungsverfahren gegen US-Präsident Trump eingeleitet\n",
      "Trump unterzeichnet US-Gesetz für Sanktionen gegen Nord Stream 2\n"
     ]
    },
    {
     "output_type": "display_data",
     "data": {
      "application/vnd.plotly.v1+json": {
       "config": {
        "plotlyServerURL": "https://plot.ly"
       },
       "data": [
        {
         "hovertemplate": "Year=%{x}<br>Number of Mentions=%{y}<extra></extra>",
         "legendgroup": "",
         "line": {
          "color": "#636efa",
          "dash": "solid"
         },
         "marker": {
          "symbol": "circle"
         },
         "mode": "lines",
         "name": "",
         "orientation": "v",
         "showlegend": false,
         "type": "scatter",
         "x": [
          "2013/2",
          "2013/3",
          "2013/4",
          "2014/1",
          "2014/2",
          "2014/3",
          "2014/4",
          "2015/1",
          "2015/2",
          "2015/3",
          "2015/4",
          "2016/1",
          "2016/2",
          "2016/3",
          "2016/4",
          "2017/1",
          "2017/2",
          "2017/3",
          "2017/4",
          "2018/1",
          "2018/2",
          "2018/3",
          "2018/4",
          "2019/1",
          "2019/2",
          "2019/3",
          "2019/4",
          "2020/1",
          "2020/2",
          "2020/3",
          "2020/4",
          "2021/1",
          "2021/2",
          "2021/3"
         ],
         "xaxis": "x",
         "y": [
          0,
          0,
          0,
          0,
          0,
          0,
          0,
          0,
          0,
          1,
          3,
          8,
          11,
          17,
          36,
          74,
          49,
          39,
          39,
          36,
          44,
          35,
          28,
          32,
          19,
          21,
          21,
          26,
          20,
          36,
          45,
          30,
          0,
          2
         ],
         "yaxis": "y"
        }
       ],
       "layout": {
        "height": 500,
        "legend": {
         "tracegroupgap": 0
        },
        "template": {
         "data": {
          "bar": [
           {
            "error_x": {
             "color": "#f2f5fa"
            },
            "error_y": {
             "color": "#f2f5fa"
            },
            "marker": {
             "line": {
              "color": "rgb(17,17,17)",
              "width": 0.5
             },
             "pattern": {
              "fillmode": "overlay",
              "size": 10,
              "solidity": 0.2
             }
            },
            "type": "bar"
           }
          ],
          "barpolar": [
           {
            "marker": {
             "line": {
              "color": "rgb(17,17,17)",
              "width": 0.5
             },
             "pattern": {
              "fillmode": "overlay",
              "size": 10,
              "solidity": 0.2
             }
            },
            "type": "barpolar"
           }
          ],
          "carpet": [
           {
            "aaxis": {
             "endlinecolor": "#A2B1C6",
             "gridcolor": "#506784",
             "linecolor": "#506784",
             "minorgridcolor": "#506784",
             "startlinecolor": "#A2B1C6"
            },
            "baxis": {
             "endlinecolor": "#A2B1C6",
             "gridcolor": "#506784",
             "linecolor": "#506784",
             "minorgridcolor": "#506784",
             "startlinecolor": "#A2B1C6"
            },
            "type": "carpet"
           }
          ],
          "choropleth": [
           {
            "colorbar": {
             "outlinewidth": 0,
             "ticks": ""
            },
            "type": "choropleth"
           }
          ],
          "contour": [
           {
            "colorbar": {
             "outlinewidth": 0,
             "ticks": ""
            },
            "colorscale": [
             [
              0,
              "#0d0887"
             ],
             [
              0.1111111111111111,
              "#46039f"
             ],
             [
              0.2222222222222222,
              "#7201a8"
             ],
             [
              0.3333333333333333,
              "#9c179e"
             ],
             [
              0.4444444444444444,
              "#bd3786"
             ],
             [
              0.5555555555555556,
              "#d8576b"
             ],
             [
              0.6666666666666666,
              "#ed7953"
             ],
             [
              0.7777777777777778,
              "#fb9f3a"
             ],
             [
              0.8888888888888888,
              "#fdca26"
             ],
             [
              1,
              "#f0f921"
             ]
            ],
            "type": "contour"
           }
          ],
          "contourcarpet": [
           {
            "colorbar": {
             "outlinewidth": 0,
             "ticks": ""
            },
            "type": "contourcarpet"
           }
          ],
          "heatmap": [
           {
            "colorbar": {
             "outlinewidth": 0,
             "ticks": ""
            },
            "colorscale": [
             [
              0,
              "#0d0887"
             ],
             [
              0.1111111111111111,
              "#46039f"
             ],
             [
              0.2222222222222222,
              "#7201a8"
             ],
             [
              0.3333333333333333,
              "#9c179e"
             ],
             [
              0.4444444444444444,
              "#bd3786"
             ],
             [
              0.5555555555555556,
              "#d8576b"
             ],
             [
              0.6666666666666666,
              "#ed7953"
             ],
             [
              0.7777777777777778,
              "#fb9f3a"
             ],
             [
              0.8888888888888888,
              "#fdca26"
             ],
             [
              1,
              "#f0f921"
             ]
            ],
            "type": "heatmap"
           }
          ],
          "heatmapgl": [
           {
            "colorbar": {
             "outlinewidth": 0,
             "ticks": ""
            },
            "colorscale": [
             [
              0,
              "#0d0887"
             ],
             [
              0.1111111111111111,
              "#46039f"
             ],
             [
              0.2222222222222222,
              "#7201a8"
             ],
             [
              0.3333333333333333,
              "#9c179e"
             ],
             [
              0.4444444444444444,
              "#bd3786"
             ],
             [
              0.5555555555555556,
              "#d8576b"
             ],
             [
              0.6666666666666666,
              "#ed7953"
             ],
             [
              0.7777777777777778,
              "#fb9f3a"
             ],
             [
              0.8888888888888888,
              "#fdca26"
             ],
             [
              1,
              "#f0f921"
             ]
            ],
            "type": "heatmapgl"
           }
          ],
          "histogram": [
           {
            "marker": {
             "pattern": {
              "fillmode": "overlay",
              "size": 10,
              "solidity": 0.2
             }
            },
            "type": "histogram"
           }
          ],
          "histogram2d": [
           {
            "colorbar": {
             "outlinewidth": 0,
             "ticks": ""
            },
            "colorscale": [
             [
              0,
              "#0d0887"
             ],
             [
              0.1111111111111111,
              "#46039f"
             ],
             [
              0.2222222222222222,
              "#7201a8"
             ],
             [
              0.3333333333333333,
              "#9c179e"
             ],
             [
              0.4444444444444444,
              "#bd3786"
             ],
             [
              0.5555555555555556,
              "#d8576b"
             ],
             [
              0.6666666666666666,
              "#ed7953"
             ],
             [
              0.7777777777777778,
              "#fb9f3a"
             ],
             [
              0.8888888888888888,
              "#fdca26"
             ],
             [
              1,
              "#f0f921"
             ]
            ],
            "type": "histogram2d"
           }
          ],
          "histogram2dcontour": [
           {
            "colorbar": {
             "outlinewidth": 0,
             "ticks": ""
            },
            "colorscale": [
             [
              0,
              "#0d0887"
             ],
             [
              0.1111111111111111,
              "#46039f"
             ],
             [
              0.2222222222222222,
              "#7201a8"
             ],
             [
              0.3333333333333333,
              "#9c179e"
             ],
             [
              0.4444444444444444,
              "#bd3786"
             ],
             [
              0.5555555555555556,
              "#d8576b"
             ],
             [
              0.6666666666666666,
              "#ed7953"
             ],
             [
              0.7777777777777778,
              "#fb9f3a"
             ],
             [
              0.8888888888888888,
              "#fdca26"
             ],
             [
              1,
              "#f0f921"
             ]
            ],
            "type": "histogram2dcontour"
           }
          ],
          "mesh3d": [
           {
            "colorbar": {
             "outlinewidth": 0,
             "ticks": ""
            },
            "type": "mesh3d"
           }
          ],
          "parcoords": [
           {
            "line": {
             "colorbar": {
              "outlinewidth": 0,
              "ticks": ""
             }
            },
            "type": "parcoords"
           }
          ],
          "pie": [
           {
            "automargin": true,
            "type": "pie"
           }
          ],
          "scatter": [
           {
            "marker": {
             "line": {
              "color": "#283442"
             }
            },
            "type": "scatter"
           }
          ],
          "scatter3d": [
           {
            "line": {
             "colorbar": {
              "outlinewidth": 0,
              "ticks": ""
             }
            },
            "marker": {
             "colorbar": {
              "outlinewidth": 0,
              "ticks": ""
             }
            },
            "type": "scatter3d"
           }
          ],
          "scattercarpet": [
           {
            "marker": {
             "colorbar": {
              "outlinewidth": 0,
              "ticks": ""
             }
            },
            "type": "scattercarpet"
           }
          ],
          "scattergeo": [
           {
            "marker": {
             "colorbar": {
              "outlinewidth": 0,
              "ticks": ""
             }
            },
            "type": "scattergeo"
           }
          ],
          "scattergl": [
           {
            "marker": {
             "line": {
              "color": "#283442"
             }
            },
            "type": "scattergl"
           }
          ],
          "scattermapbox": [
           {
            "marker": {
             "colorbar": {
              "outlinewidth": 0,
              "ticks": ""
             }
            },
            "type": "scattermapbox"
           }
          ],
          "scatterpolar": [
           {
            "marker": {
             "colorbar": {
              "outlinewidth": 0,
              "ticks": ""
             }
            },
            "type": "scatterpolar"
           }
          ],
          "scatterpolargl": [
           {
            "marker": {
             "colorbar": {
              "outlinewidth": 0,
              "ticks": ""
             }
            },
            "type": "scatterpolargl"
           }
          ],
          "scatterternary": [
           {
            "marker": {
             "colorbar": {
              "outlinewidth": 0,
              "ticks": ""
             }
            },
            "type": "scatterternary"
           }
          ],
          "surface": [
           {
            "colorbar": {
             "outlinewidth": 0,
             "ticks": ""
            },
            "colorscale": [
             [
              0,
              "#0d0887"
             ],
             [
              0.1111111111111111,
              "#46039f"
             ],
             [
              0.2222222222222222,
              "#7201a8"
             ],
             [
              0.3333333333333333,
              "#9c179e"
             ],
             [
              0.4444444444444444,
              "#bd3786"
             ],
             [
              0.5555555555555556,
              "#d8576b"
             ],
             [
              0.6666666666666666,
              "#ed7953"
             ],
             [
              0.7777777777777778,
              "#fb9f3a"
             ],
             [
              0.8888888888888888,
              "#fdca26"
             ],
             [
              1,
              "#f0f921"
             ]
            ],
            "type": "surface"
           }
          ],
          "table": [
           {
            "cells": {
             "fill": {
              "color": "#506784"
             },
             "line": {
              "color": "rgb(17,17,17)"
             }
            },
            "header": {
             "fill": {
              "color": "#2a3f5f"
             },
             "line": {
              "color": "rgb(17,17,17)"
             }
            },
            "type": "table"
           }
          ]
         },
         "layout": {
          "annotationdefaults": {
           "arrowcolor": "#f2f5fa",
           "arrowhead": 0,
           "arrowwidth": 1
          },
          "autotypenumbers": "strict",
          "coloraxis": {
           "colorbar": {
            "outlinewidth": 0,
            "ticks": ""
           }
          },
          "colorscale": {
           "diverging": [
            [
             0,
             "#8e0152"
            ],
            [
             0.1,
             "#c51b7d"
            ],
            [
             0.2,
             "#de77ae"
            ],
            [
             0.3,
             "#f1b6da"
            ],
            [
             0.4,
             "#fde0ef"
            ],
            [
             0.5,
             "#f7f7f7"
            ],
            [
             0.6,
             "#e6f5d0"
            ],
            [
             0.7,
             "#b8e186"
            ],
            [
             0.8,
             "#7fbc41"
            ],
            [
             0.9,
             "#4d9221"
            ],
            [
             1,
             "#276419"
            ]
           ],
           "sequential": [
            [
             0,
             "#0d0887"
            ],
            [
             0.1111111111111111,
             "#46039f"
            ],
            [
             0.2222222222222222,
             "#7201a8"
            ],
            [
             0.3333333333333333,
             "#9c179e"
            ],
            [
             0.4444444444444444,
             "#bd3786"
            ],
            [
             0.5555555555555556,
             "#d8576b"
            ],
            [
             0.6666666666666666,
             "#ed7953"
            ],
            [
             0.7777777777777778,
             "#fb9f3a"
            ],
            [
             0.8888888888888888,
             "#fdca26"
            ],
            [
             1,
             "#f0f921"
            ]
           ],
           "sequentialminus": [
            [
             0,
             "#0d0887"
            ],
            [
             0.1111111111111111,
             "#46039f"
            ],
            [
             0.2222222222222222,
             "#7201a8"
            ],
            [
             0.3333333333333333,
             "#9c179e"
            ],
            [
             0.4444444444444444,
             "#bd3786"
            ],
            [
             0.5555555555555556,
             "#d8576b"
            ],
            [
             0.6666666666666666,
             "#ed7953"
            ],
            [
             0.7777777777777778,
             "#fb9f3a"
            ],
            [
             0.8888888888888888,
             "#fdca26"
            ],
            [
             1,
             "#f0f921"
            ]
           ]
          },
          "colorway": [
           "#636efa",
           "#EF553B",
           "#00cc96",
           "#ab63fa",
           "#FFA15A",
           "#19d3f3",
           "#FF6692",
           "#B6E880",
           "#FF97FF",
           "#FECB52"
          ],
          "font": {
           "color": "#f2f5fa"
          },
          "geo": {
           "bgcolor": "rgb(17,17,17)",
           "lakecolor": "rgb(17,17,17)",
           "landcolor": "rgb(17,17,17)",
           "showlakes": true,
           "showland": true,
           "subunitcolor": "#506784"
          },
          "hoverlabel": {
           "align": "left"
          },
          "hovermode": "closest",
          "mapbox": {
           "style": "dark"
          },
          "paper_bgcolor": "rgb(17,17,17)",
          "plot_bgcolor": "rgb(17,17,17)",
          "polar": {
           "angularaxis": {
            "gridcolor": "#506784",
            "linecolor": "#506784",
            "ticks": ""
           },
           "bgcolor": "rgb(17,17,17)",
           "radialaxis": {
            "gridcolor": "#506784",
            "linecolor": "#506784",
            "ticks": ""
           }
          },
          "scene": {
           "xaxis": {
            "backgroundcolor": "rgb(17,17,17)",
            "gridcolor": "#506784",
            "gridwidth": 2,
            "linecolor": "#506784",
            "showbackground": true,
            "ticks": "",
            "zerolinecolor": "#C8D4E3"
           },
           "yaxis": {
            "backgroundcolor": "rgb(17,17,17)",
            "gridcolor": "#506784",
            "gridwidth": 2,
            "linecolor": "#506784",
            "showbackground": true,
            "ticks": "",
            "zerolinecolor": "#C8D4E3"
           },
           "zaxis": {
            "backgroundcolor": "rgb(17,17,17)",
            "gridcolor": "#506784",
            "gridwidth": 2,
            "linecolor": "#506784",
            "showbackground": true,
            "ticks": "",
            "zerolinecolor": "#C8D4E3"
           }
          },
          "shapedefaults": {
           "line": {
            "color": "#f2f5fa"
           }
          },
          "sliderdefaults": {
           "bgcolor": "#C8D4E3",
           "bordercolor": "rgb(17,17,17)",
           "borderwidth": 1,
           "tickwidth": 0
          },
          "ternary": {
           "aaxis": {
            "gridcolor": "#506784",
            "linecolor": "#506784",
            "ticks": ""
           },
           "baxis": {
            "gridcolor": "#506784",
            "linecolor": "#506784",
            "ticks": ""
           },
           "bgcolor": "rgb(17,17,17)",
           "caxis": {
            "gridcolor": "#506784",
            "linecolor": "#506784",
            "ticks": ""
           }
          },
          "title": {
           "x": 0.05
          },
          "updatemenudefaults": {
           "bgcolor": "#506784",
           "borderwidth": 0
          },
          "xaxis": {
           "automargin": true,
           "gridcolor": "#283442",
           "linecolor": "#506784",
           "ticks": "",
           "title": {
            "standoff": 15
           },
           "zerolinecolor": "#283442",
           "zerolinewidth": 2
          },
          "yaxis": {
           "automargin": true,
           "gridcolor": "#283442",
           "linecolor": "#506784",
           "ticks": "",
           "title": {
            "standoff": 15
           },
           "zerolinecolor": "#283442",
           "zerolinewidth": 2
          }
         }
        },
        "title": {
         "text": "Mentions of word \"Trump\" per quarter"
        },
        "width": 1000,
        "xaxis": {
         "anchor": "y",
         "domain": [
          0,
          1
         ],
         "tickmode": "array",
         "ticktext": [
          " ",
          " ",
          " ",
          "2014",
          " ",
          " ",
          " ",
          "2015",
          " ",
          " ",
          " ",
          "2016",
          " ",
          " ",
          " ",
          "2017",
          " ",
          " ",
          " ",
          "2018",
          " ",
          " ",
          " ",
          "2019",
          " ",
          " ",
          " ",
          "2020",
          " ",
          " ",
          " ",
          "2021",
          " ",
          " "
         ],
         "tickvals": [
          0,
          1,
          2,
          3,
          4,
          5,
          6,
          7,
          8,
          9,
          10,
          11,
          12,
          13,
          14,
          15,
          16,
          17,
          18,
          19,
          20,
          21,
          22,
          23,
          24,
          25,
          26,
          27,
          28,
          29,
          30,
          31,
          32,
          33
         ],
         "title": {
          "text": "Year"
         }
        },
        "yaxis": {
         "anchor": "x",
         "domain": [
          0,
          1
         ],
         "title": {
          "text": "Number of Mentions"
         }
        }
       }
      }
     },
     "metadata": {}
    }
   ],
   "metadata": {}
  },
  {
   "cell_type": "code",
   "execution_count": null,
   "source": [],
   "outputs": [],
   "metadata": {}
  }
 ],
 "metadata": {
  "orig_nbformat": 4,
  "language_info": {
   "name": "python",
   "version": "3.8.8",
   "mimetype": "text/x-python",
   "codemirror_mode": {
    "name": "ipython",
    "version": 3
   },
   "pygments_lexer": "ipython3",
   "nbconvert_exporter": "python",
   "file_extension": ".py"
  },
  "kernelspec": {
   "name": "python3",
   "display_name": "Python 3.8.8 64-bit ('base': conda)"
  },
  "interpreter": {
   "hash": "d165cc963bcabd8bdd323ef0c94434871da12394ba82de0f324bd3f8fc85e6b9"
  }
 },
 "nbformat": 4,
 "nbformat_minor": 2
}